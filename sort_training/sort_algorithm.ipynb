{
 "cells": [
  {
   "cell_type": "code",
   "execution_count": 1,
   "metadata": {},
   "outputs": [
    {
     "data": {
      "text/plain": [
       "10"
      ]
     },
     "execution_count": 1,
     "metadata": {},
     "output_type": "execute_result"
    }
   ],
   "source": [
    "random_list = [4,3,9,0,2,1,5,8,7,6]\n",
    "len(random_list)"
   ]
  },
  {
   "cell_type": "code",
   "execution_count": 13,
   "metadata": {},
   "outputs": [
    {
     "data": {
      "text/plain": [
       "[0, 1, 2, 3, 4, 5, 6, 7, 8, 9]"
      ]
     },
     "execution_count": 13,
     "metadata": {},
     "output_type": "execute_result"
    }
   ],
   "source": [
    "def bubble_sort(_list):\n",
    "    is_continue = True\n",
    "    while is_continue:\n",
    "        is_continue = False\n",
    "        \n",
    "        for i in range(len(_list)-1):\n",
    "            if _list[i] > _list[i+1]:\n",
    "                _list[i], _list[i+1] = _list[i+1], _list[i]\n",
    "                is_continue = True\n",
    "    return _list\n",
    "    \n",
    "bubble_sort(random_list.copy())"
   ]
  },
  {
   "cell_type": "code",
   "execution_count": 14,
   "metadata": {},
   "outputs": [
    {
     "data": {
      "text/plain": [
       "[0, 1, 2, 3, 4, 5, 6, 7, 8, 9]"
      ]
     },
     "execution_count": 14,
     "metadata": {},
     "output_type": "execute_result"
    }
   ],
   "source": [
    "def quick_sort(_list):\n",
    "    if len(_list) <= 1:\n",
    "        return _list\n",
    "    \n",
    "    left = []\n",
    "    right = []\n",
    "    n = _list[0]\n",
    "    n_cnter = 0\n",
    "    \n",
    "    for item in _list:\n",
    "        if item < n:\n",
    "            left.append(item)\n",
    "        elif item > n:\n",
    "            right.append(item)\n",
    "        else:\n",
    "            n_cnter += 1\n",
    "            \n",
    "    left = quick_sort(left)\n",
    "    right = quick_sort(right)\n",
    "    \n",
    "    return left+[n]*n_cnter+right\n",
    "    \n",
    "quick_sort(random_list.copy())"
   ]
  },
  {
   "cell_type": "code",
   "execution_count": 14,
   "metadata": {},
   "outputs": [
    {
     "data": {
      "text/plain": [
       "[0, 1, 2, 3, 4, 5, 6, 7, 8, 9]"
      ]
     },
     "execution_count": 14,
     "metadata": {},
     "output_type": "execute_result"
    }
   ],
   "source": [
    "def merge_sort(_list):\n",
    "    if len(_list) <= 1:\n",
    "        return _list\n",
    "    \n",
    "    mid = len(_list) // 2\n",
    "    left = _list[:mid]\n",
    "    right = _list[mid:]\n",
    "    \n",
    "    left = merge_sort(left)\n",
    "    right = merge_sort(right)\n",
    "    return merge(left, right)\n",
    "\n",
    "    \n",
    "def merge(left, right):\n",
    "    stack = []\n",
    "    l_idx, r_idx = 0, 0\n",
    "    \n",
    "    while l_idx < len(left) and r_idx < len(right):\n",
    "        if left[l_idx] <= right[r_idx]:\n",
    "            stack.append(left[l_idx])\n",
    "            l_idx += 1\n",
    "        else:\n",
    "            stack.append(right[r_idx])\n",
    "            r_idx += 1\n",
    "    \n",
    "    if l_idx < len(left):\n",
    "        for i in range(l_idx, len(left)):\n",
    "            stack.append(left[i])\n",
    "    elif r_idx < len(right):\n",
    "        for i in range(r_idx, len(right)):\n",
    "            stack.append(right[i])\n",
    "        \n",
    "    return stack\n",
    "    \n",
    "merge_sort(random_list.copy())"
   ]
  },
  {
   "cell_type": "code",
   "execution_count": null,
   "metadata": {
    "scrolled": true
   },
   "outputs": [],
   "source": []
  },
  {
   "cell_type": "code",
   "execution_count": null,
   "metadata": {},
   "outputs": [],
   "source": []
  }
 ],
 "metadata": {
  "kernelspec": {
   "display_name": "Python 3",
   "language": "python",
   "name": "python3"
  },
  "language_info": {
   "codemirror_mode": {
    "name": "ipython",
    "version": 3
   },
   "file_extension": ".py",
   "mimetype": "text/x-python",
   "name": "python",
   "nbconvert_exporter": "python",
   "pygments_lexer": "ipython3",
   "version": "3.7.4"
  }
 },
 "nbformat": 4,
 "nbformat_minor": 2
}
