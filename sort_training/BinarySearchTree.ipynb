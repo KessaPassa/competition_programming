{
 "cells": [
  {
   "cell_type": "code",
   "execution_count": 1,
   "metadata": {},
   "outputs": [],
   "source": [
    "class Node:\n",
    "    def __init__(self, num):\n",
    "        self.num = num\n",
    "        self.left = None\n",
    "        self.right = None"
   ]
  },
  {
   "cell_type": "code",
   "execution_count": 17,
   "metadata": {},
   "outputs": [],
   "source": [
    "class BinarySearchTree:\n",
    "    def __init__(self, num_list):\n",
    "        self.root = None\n",
    "        for num in num_list:\n",
    "            self.insert(num)\n",
    "            \n",
    "    def insert(self, num):\n",
    "        root = self.root\n",
    "        if root == None:\n",
    "            self.root = Node(num)\n",
    "        \n",
    "        else:\n",
    "            while True:\n",
    "                entry = root.num\n",
    "                if num < entry:\n",
    "                    if root.left is None:\n",
    "                        root.left = Node(num)\n",
    "                        break\n",
    "                    root = root.left\n",
    "                    \n",
    "                elif num > entry:\n",
    "                    if root.right is None:\n",
    "                        root.right = Node(num)\n",
    "                        break\n",
    "                    root = root.right\n",
    "                    \n",
    "                else:\n",
    "                    break\n",
    "                    \n",
    "    def search(self, num):\n",
    "        result = self.is_exist(num)\n",
    "        if result is None:\n",
    "            print(\"Search target is not found.\")\n",
    "        elif result == True:\n",
    "            print(str(num) + \" is found!\")\n",
    "        elif result == False:\n",
    "            print(str(num) + \" is not found.\")\n",
    "        \n",
    "    def is_exist(self, num):\n",
    "        root = self.root\n",
    "        if root is None:\n",
    "            return None\n",
    "        \n",
    "        else:\n",
    "            stack = []\n",
    "            stack.append(root)\n",
    "            while len(stack) > 0:\n",
    "                node = stack.pop()\n",
    "                if num == node.num:\n",
    "                    return True\n",
    "                \n",
    "                if node.left is not None:\n",
    "                    stack.append(node.left)\n",
    "                if node.right is not None:\n",
    "                    stack.append(node.right)\n",
    "                    \n",
    "            return False\n",
    "                    \n",
    "    def sort(self, node, reverse=False):\n",
    "        if node is not None:\n",
    "            self.sort(node.left)\n",
    "            print(node.num)\n",
    "            self.sort(node.right)"
   ]
  },
  {
   "cell_type": "code",
   "execution_count": 18,
   "metadata": {
    "scrolled": true
   },
   "outputs": [
    {
     "name": "stdout",
     "output_type": "stream",
     "text": [
      "[42, 45, 13, 27, 3, 30, 15, 14, 34, 4, 41, 6, 17, 7, 9, 28, 0, 35, 1, 22, 39, 19, 46, 37, 10, 26, 12, 29, 24, 16, 8, 18, 25, 11, 47, 44, 38, 21, 48, 23, 20, 31, 36, 49, 33, 43, 5, 32, 2, 40]\n"
     ]
    }
   ],
   "source": [
    "import random\n",
    "random_list = list(range(50))\n",
    "random.shuffle(random_list)\n",
    "print(random_list)"
   ]
  },
  {
   "cell_type": "code",
   "execution_count": 19,
   "metadata": {},
   "outputs": [
    {
     "name": "stdout",
     "output_type": "stream",
     "text": [
      "10 is found!\n"
     ]
    }
   ],
   "source": [
    "tree = BinarySearchTree(random_list)\n",
    "tree.search(10)"
   ]
  },
  {
   "cell_type": "code",
   "execution_count": 20,
   "metadata": {},
   "outputs": [
    {
     "data": {
      "text/plain": [
       "42"
      ]
     },
     "execution_count": 20,
     "metadata": {},
     "output_type": "execute_result"
    }
   ],
   "source": [
    "tree.root.num"
   ]
  },
  {
   "cell_type": "code",
   "execution_count": 21,
   "metadata": {},
   "outputs": [
    {
     "data": {
      "text/plain": [
       "45"
      ]
     },
     "execution_count": 21,
     "metadata": {},
     "output_type": "execute_result"
    }
   ],
   "source": [
    "root = tree.root\n",
    "root.right.num"
   ]
  },
  {
   "cell_type": "code",
   "execution_count": 22,
   "metadata": {},
   "outputs": [
    {
     "name": "stdout",
     "output_type": "stream",
     "text": [
      "0\n",
      "1\n",
      "2\n",
      "3\n",
      "4\n",
      "5\n",
      "6\n",
      "7\n",
      "8\n",
      "9\n",
      "10\n",
      "11\n",
      "12\n",
      "13\n",
      "14\n",
      "15\n",
      "16\n",
      "17\n",
      "18\n",
      "19\n",
      "20\n",
      "21\n",
      "22\n",
      "23\n",
      "24\n",
      "25\n",
      "26\n",
      "27\n",
      "28\n",
      "29\n",
      "30\n",
      "31\n",
      "32\n",
      "33\n",
      "34\n",
      "35\n",
      "36\n",
      "37\n",
      "38\n",
      "39\n",
      "40\n",
      "41\n",
      "42\n",
      "43\n",
      "44\n",
      "45\n",
      "46\n",
      "47\n",
      "48\n",
      "49\n"
     ]
    }
   ],
   "source": [
    "tree.sort(tree.root)"
   ]
  },
  {
   "cell_type": "code",
   "execution_count": 8,
   "metadata": {},
   "outputs": [
    {
     "data": {
      "text/plain": [
       "True"
      ]
     },
     "execution_count": 8,
     "metadata": {},
     "output_type": "execute_result"
    }
   ],
   "source": [
    "hoge=1\n",
    "hoge is not None"
   ]
  },
  {
   "cell_type": "code",
   "execution_count": null,
   "metadata": {},
   "outputs": [],
   "source": []
  }
 ],
 "metadata": {
  "kernelspec": {
   "display_name": "Python 3",
   "language": "python",
   "name": "python3"
  },
  "language_info": {
   "codemirror_mode": {
    "name": "ipython",
    "version": 3
   },
   "file_extension": ".py",
   "mimetype": "text/x-python",
   "name": "python",
   "nbconvert_exporter": "python",
   "pygments_lexer": "ipython3",
   "version": "3.7.4"
  }
 },
 "nbformat": 4,
 "nbformat_minor": 2
}
