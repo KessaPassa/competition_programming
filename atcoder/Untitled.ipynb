{
 "cells": [
  {
   "cell_type": "code",
   "execution_count": 5,
   "metadata": {},
   "outputs": [
    {
     "name": "stdout",
     "output_type": "stream",
     "text": [
      "25\n"
     ]
    }
   ],
   "source": [
    "N = input()\n",
    "m = len(N)"
   ]
  },
  {
   "cell_type": "code",
   "execution_count": 6,
   "metadata": {},
   "outputs": [
    {
     "name": "stdout",
     "output_type": "stream",
     "text": [
      "17\n"
     ]
    }
   ],
   "source": [
    "a0 = int(N[0])\n",
    "a1 = int(N[-1])\n",
    "\n",
    "ans = 0\n",
    "if m == 1:\n",
    "    ans = int(N)\n",
    "else:\n",
    "    mid = (int(N[1:]) - a1)//10\n",
    "    t = 10**(m-2)\n",
    "    ans = 9\n",
    "    ans += ((a0-1)*t) * 2\n",
    "    ans += (mid + (a1 >= a0)) * 2\n",
    "    ans += ((a0-1)*t)**2\n",
    "    ans += ((mid*(a0-1) + min(a0-1, a1))*t) * 2\n",
    "    ans += (mid + (a1 >= a0))**2\n",
    "    if m >= 3:\n",
    "        ans += (t - 1) * 2\n",
    "        ans += ((a0-1)*(t - 1)*t) * 2\n",
    "        ans += (mid * (t - 1)) * 2\n",
    "        ans += (a1 * (t - 1)//9) * 2\n",
    "        ans += (t - 1)**2\n",
    "\n",
    "print(ans)"
   ]
  },
  {
   "cell_type": "code",
   "execution_count": 12,
   "metadata": {},
   "outputs": [],
   "source": [
    "hoge=[-1,-1]"
   ]
  },
  {
   "cell_type": "code",
   "execution_count": 14,
   "metadata": {},
   "outputs": [
    {
     "data": {
      "text/plain": [
       "-2"
      ]
     },
     "execution_count": 14,
     "metadata": {},
     "output_type": "execute_result"
    }
   ],
   "source": [
    "sum(hoge)"
   ]
  },
  {
   "cell_type": "code",
   "execution_count": 13,
   "metadata": {},
   "outputs": [
    {
     "data": {
      "text/plain": [
       "False"
      ]
     },
     "execution_count": 13,
     "metadata": {},
     "output_type": "execute_result"
    }
   ],
   "source": [
    "not any(hoge)"
   ]
  },
  {
   "cell_type": "code",
   "execution_count": null,
   "metadata": {},
   "outputs": [],
   "source": []
  }
 ],
 "metadata": {
  "kernelspec": {
   "display_name": "Python 3",
   "language": "python",
   "name": "python3"
  },
  "language_info": {
   "codemirror_mode": {
    "name": "ipython",
    "version": 3
   },
   "file_extension": ".py",
   "mimetype": "text/x-python",
   "name": "python",
   "nbconvert_exporter": "python",
   "pygments_lexer": "ipython3",
   "version": "3.7.4"
  }
 },
 "nbformat": 4,
 "nbformat_minor": 2
}
