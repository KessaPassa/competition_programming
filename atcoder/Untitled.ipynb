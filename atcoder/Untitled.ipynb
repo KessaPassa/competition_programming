{
 "cells": [
  {
   "cell_type": "code",
   "execution_count": 47,
   "metadata": {},
   "outputs": [
    {
     "name": "stdout",
     "output_type": "stream",
     "text": [
      "4 3\n",
      "3 3 -4 -2\n"
     ]
    }
   ],
   "source": [
    "N, K = list(map(int, input().split()))\n",
    "A = list(map(int, input().split()))"
   ]
  },
  {
   "cell_type": "code",
   "execution_count": 52,
   "metadata": {},
   "outputs": [
    {
     "name": "stdout",
     "output_type": "stream",
     "text": [
      "[-12, -12, -6, -6, 8, 9]\n",
      "-6\n"
     ]
    }
   ],
   "source": [
    "import itertools\n",
    "import os\n",
    "import sys\n",
    "\n",
    "import numpy as np\n",
    "\n",
    "# from libs.debug import debug\n",
    "\n",
    "if os.getenv(\"LOCAL\"):\n",
    "    sys.stdin = open(\"_in.txt\", \"r\")\n",
    "\n",
    "sys.setrecursionlimit(10 ** 9)\n",
    "INF = float(\"inf\")\n",
    "IINF = 10 ** 18\n",
    "MOD = 10 ** 9 + 7\n",
    "# MOD = 998244353\n",
    "\n",
    "# N, K = list(map(int, sys.stdin.buffer.readline().split()))\n",
    "# A = list(map(int, sys.stdin.buffer.readline().split()))\n",
    "\n",
    "A = np.array(A, dtype=int)\n",
    "minuses = np.msort(np.abs(A[A < 0]))\n",
    "pluses = np.msort(A[A > 0])\n",
    "zeros = A[A == 0]\n",
    "\n",
    "\n",
    "def solve():\n",
    "    p = []\n",
    "    for a, b in itertools.combinations(A, r=2):\n",
    "        p.append(a * b)\n",
    "    p.sort()\n",
    "    print(p)\n",
    "    print(p[K - 1])\n",
    "\n",
    "\n",
    "def test(n):\n",
    "    # n 以下の数が k こ以上ある\n",
    "    minus_cnt = len(minuses) * len(pluses)\n",
    "    zeros_cnt = len(zeros) * (N - len(zeros)) + (len(zeros) * (len(zeros) - 1) // 2)\n",
    "    if n == 0:\n",
    "        return minus_cnt + zeros_cnt >= K\n",
    "    ret = minus_cnt + zeros_cnt\n",
    "    if n > 0:\n",
    "        a = np.searchsorted(pluses, n // pluses, side='right')\n",
    "        b = np.searchsorted(minuses, n // minuses, side='right')\n",
    "        c = pluses ** 2 <= n\n",
    "        d = minuses ** 2 <= n\n",
    "        return ret + (a.sum() + b.sum() - c.sum() - d.sum()) // 2 >= K\n",
    "    else:\n",
    "        a = np.searchsorted(-minuses[::-1], n // pluses, side='right')\n",
    "        b = np.searchsorted(-pluses[::-1], n // minuses, side='right')\n",
    "        return (a.sum() + b.sum()) // 2 >= K\n",
    "\n",
    "\n",
    "# ok = 10 ** 18 - 1\n",
    "# ng = -10 ** 18 - 1\n",
    "# while abs(ok - ng) > 1:\n",
    "#     mid = (ok + ng) // 2\n",
    "#     if test(mid):\n",
    "#         ok = mid\n",
    "#     else:\n",
    "#         ng = mid\n",
    "# print(ok)\n",
    "\n",
    "solve()\n"
   ]
  },
  {
   "cell_type": "code",
   "execution_count": 58,
   "metadata": {},
   "outputs": [
    {
     "data": {
      "text/plain": [
       "[3, 3, 4, 5]"
      ]
     },
     "execution_count": 58,
     "metadata": {},
     "output_type": "execute_result"
    }
   ],
   "source": [
    "ans_list = [2,2,3,4]\n",
    "list(map(lambda x: x+1, ans_list))"
   ]
  },
  {
   "cell_type": "code",
   "execution_count": 60,
   "metadata": {},
   "outputs": [
    {
     "data": {
      "text/plain": [
       "2"
      ]
     },
     "execution_count": 60,
     "metadata": {},
     "output_type": "execute_result"
    }
   ],
   "source": [
    "ans_list.pop(0)"
   ]
  },
  {
   "cell_type": "code",
   "execution_count": 63,
   "metadata": {},
   "outputs": [
    {
     "data": {
      "text/plain": [
       "array([0, 1, 2])"
      ]
     },
     "execution_count": 63,
     "metadata": {},
     "output_type": "execute_result"
    }
   ],
   "source": [
    "b = np.arange(0,3)"
   ]
  },
  {
   "cell_type": "code",
   "execution_count": 65,
   "metadata": {},
   "outputs": [
    {
     "ename": "TypeError",
     "evalue": "'int' object is not iterable",
     "output_type": "error",
     "traceback": [
      "\u001b[0;31m---------------------------------------------------------------------------\u001b[0m",
      "\u001b[0;31mTypeError\u001b[0m                                 Traceback (most recent call last)",
      "\u001b[0;32m<ipython-input-65-5eff0c09ae91>\u001b[0m in \u001b[0;36m<module>\u001b[0;34m\u001b[0m\n\u001b[0;32m----> 1\u001b[0;31m \u001b[0;34m[\u001b[0m\u001b[0mi\u001b[0m \u001b[0;32mfor\u001b[0m \u001b[0mi\u001b[0m \u001b[0;32min\u001b[0m \u001b[0mb\u001b[0m \u001b[0;32mif\u001b[0m \u001b[0mi\u001b[0m \u001b[0;34m%\u001b[0m \u001b[0;36m2\u001b[0m \u001b[0;34m==\u001b[0m \u001b[0;36m0\u001b[0m\u001b[0;34m]\u001b[0m\u001b[0;34m\u001b[0m\u001b[0;34m\u001b[0m\u001b[0m\n\u001b[0m",
      "\u001b[0;31mTypeError\u001b[0m: 'int' object is not iterable"
     ]
    }
   ],
   "source": [
    "[i for i in b if i % 2 == 0]"
   ]
  },
  {
   "cell_type": "code",
   "execution_count": 68,
   "metadata": {},
   "outputs": [
    {
     "name": "stdout",
     "output_type": "stream",
     "text": [
      "1\n",
      "2\n"
     ]
    }
   ],
   "source": [
    "hoge = (1,2)\n",
    "for h in hoge:\n",
    "    print(h)"
   ]
  },
  {
   "cell_type": "code",
   "execution_count": null,
   "metadata": {},
   "outputs": [],
   "source": []
  }
 ],
 "metadata": {
  "kernelspec": {
   "display_name": "Python 3",
   "language": "python",
   "name": "python3"
  },
  "language_info": {
   "codemirror_mode": {
    "name": "ipython",
    "version": 3
   },
   "file_extension": ".py",
   "mimetype": "text/x-python",
   "name": "python",
   "nbconvert_exporter": "python",
   "pygments_lexer": "ipython3",
   "version": "3.7.4"
  }
 },
 "nbformat": 4,
 "nbformat_minor": 2
}
