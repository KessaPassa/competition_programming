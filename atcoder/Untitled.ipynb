{
 "cells": [
  {
   "cell_type": "code",
   "execution_count": 1,
   "metadata": {
    "scrolled": false
   },
   "outputs": [
    {
     "name": "stdout",
     "output_type": "stream",
     "text": [
      "4 2\n",
      "1 1 3 4\n"
     ]
    }
   ],
   "source": [
    "n, k = map(int, input().split())\n",
    "a_list = list(map(int, input().split()))"
   ]
  },
  {
   "cell_type": "code",
   "execution_count": 16,
   "metadata": {},
   "outputs": [
    {
     "name": "stdout",
     "output_type": "stream",
     "text": [
      "19 8\n"
     ]
    }
   ],
   "source": [
    "nck_list = [0] * (n + 1)\n",
    "nck_list[k] = 1\n",
    "for i in range(k + 1, n + 1):\n",
    "    nck_list[i] = (nck_list[i - 1] * i * pow(i - k, LARGE - 2, LARGE)) % LARGE\n",
    "    \n",
    "# value_counts\n",
    "a_cnt_dict = dict()\n",
    "for i in range(n):\n",
    "    a = a_list[i]\n",
    "    if a not in a_cnt_dict.keys():\n",
    "        a_cnt_dict[a] = 1\n",
    "    else:\n",
    "        a_cnt_dict[a] += 1\n",
    "        \n",
    "a_list_unique = list(sorted(list(a_cnt_dict.keys())))\n",
    "m = len(a_list_unique)\n",
    "a_values_cum = [0] * m\n",
    "s = 0\n",
    "for i in range(m):\n",
    "    s += a_cnt_dict[a_list_unique[i]]\n",
    "    a_values_cum[i] = s\n",
    "\n",
    "a_list_unique_rev = list(reversed(a_list_unique))\n",
    "a_values_cum_rev = [0] * m\n",
    "s = 0\n",
    "for i in range(m):\n",
    "    s += a_cnt_dict[a_list_unique_rev[i]]\n",
    "    a_values_cum_rev[i] = s\n",
    "    \n",
    "# max\n",
    "s_max = 0\n",
    "d_max = 0\n",
    "for i in range(m):\n",
    "    c_max = (nck_list[a_values_cum[i]] - d_max) % LARGE\n",
    "    s_max += a_list_unique[i] * c_max\n",
    "    s_max %= LARGE\n",
    "    d_max += c_max\n",
    "    d_max %= LARGE\n",
    "\n",
    "# min\n",
    "s_min = 0\n",
    "d_min = 0\n",
    "for i in range(m):\n",
    "    c_min = (nck_list[a_values_cum_rev[i]] - d_min) % LARGE\n",
    "    s_min += a_list_unique_rev[i] * c_min\n",
    "    s_min %= LARGE\n",
    "    d_min += c_min\n",
    "    d_min %= LARGE\n",
    "print(s_max, s_min)"
   ]
  },
  {
   "cell_type": "code",
   "execution_count": 15,
   "metadata": {},
   "outputs": [
    {
     "data": {
      "text/plain": [
       "[1, 2, 4]"
      ]
     },
     "execution_count": 15,
     "metadata": {},
     "output_type": "execute_result"
    }
   ],
   "source": [
    " a_values_cum_rev"
   ]
  },
  {
   "cell_type": "code",
   "execution_count": 3,
   "metadata": {
    "scrolled": true
   },
   "outputs": [
    {
     "name": "stdout",
     "output_type": "stream",
     "text": [
      "11\n"
     ]
    }
   ],
   "source": [
    "LARGE = 10 ** 9 + 7\n",
    "\n",
    "\n",
    "def solve(n, k, a_list):\n",
    "\n",
    "    # nCk\n",
    "    nck_list = [0] * (n + 1)\n",
    "    nck_list[k] = 1\n",
    "    for i in range(k + 1, n + 1):\n",
    "        nck_list[i] = (nck_list[i - 1] * i * pow(i - k, LARGE - 2, LARGE)) % LARGE\n",
    "\n",
    "    # value_counts\n",
    "    a_cnt_dict = dict()\n",
    "    for i in range(n):\n",
    "        a = a_list[i]\n",
    "        if a not in a_cnt_dict.keys():\n",
    "            a_cnt_dict[a] = 1\n",
    "        else:\n",
    "            a_cnt_dict[a] += 1\n",
    "\n",
    "    a_list_unique = list(sorted(list(a_cnt_dict.keys())))\n",
    "    m = len(a_list_unique)\n",
    "    a_values_cum = [0] * m\n",
    "    s = 0\n",
    "    for i in range(m):\n",
    "        s += a_cnt_dict[a_list_unique[i]]\n",
    "        a_values_cum[i] = s\n",
    "\n",
    "    a_list_unique_rev = list(reversed(a_list_unique))\n",
    "    a_values_cum_rev = [0] * m\n",
    "    s = 0\n",
    "    for i in range(m):\n",
    "        s += a_cnt_dict[a_list_unique_rev[i]]\n",
    "        a_values_cum_rev[i] = s\n",
    "\n",
    "    # max\n",
    "    s_max = 0\n",
    "    d_max = 0\n",
    "    for i in range(m):\n",
    "        c_max = (nck_list[a_values_cum[i]] - d_max) % LARGE\n",
    "        s_max += a_list_unique[i] * c_max\n",
    "        s_max %= LARGE\n",
    "        d_max += c_max\n",
    "        d_max %= LARGE\n",
    "\n",
    "    # min\n",
    "    s_min = 0\n",
    "    d_min = 0\n",
    "    for i in range(m):\n",
    "        c_min = (nck_list[a_values_cum_rev[i]] - d_min) % LARGE\n",
    "        s_min += a_list_unique_rev[i] * c_min\n",
    "        s_min %= LARGE\n",
    "        d_min += c_min\n",
    "        d_min %= LARGE\n",
    "    # print(s_max, s_min)\n",
    "    return (s_max - s_min) % LARGE\n",
    "\n",
    "\n",
    "def main():\n",
    "#     n, k = map(int, input().split())\n",
    "#     a_list = list(map(int, input().split()))\n",
    "    res = solve(n, k, a_list)\n",
    "    print(res)\n",
    "\n",
    "\n",
    "def test():\n",
    "    assert solve(4, 2, [1, 1, 3, 4]) == 11\n",
    "    assert solve(6, 3, [10, 10, 10, -10, -10, -10]) == 360\n",
    "    assert solve(3, 1, [1, 1, 1]) == 0\n",
    "    assert solve(10, 6, [1000000000, 1000000000, 1000000000, 1000000000, 1000000000, 0, 0, 0, 0, 0]) == 999998537\n",
    "\n",
    "\n",
    "if __name__ == \"__main__\":\n",
    "    test()\n",
    "    main()\n"
   ]
  },
  {
   "cell_type": "code",
   "execution_count": 7,
   "metadata": {},
   "outputs": [
    {
     "data": {
      "text/plain": [
       "([1, 1, 2, 6, 24], [1, 1, 500000004, 166666668, 41666667])"
      ]
     },
     "execution_count": 7,
     "metadata": {},
     "output_type": "execute_result"
    }
   ],
   "source": [
    "prepare(n, MOD)"
   ]
  },
  {
   "cell_type": "code",
   "execution_count": 5,
   "metadata": {},
   "outputs": [
    {
     "name": "stdout",
     "output_type": "stream",
     "text": [
      "11\n"
     ]
    }
   ],
   "source": [
    "def prepare(n, MOD):\n",
    "    f = 1\n",
    "    factorials = [1]\n",
    "    for m in range(1, n + 1):\n",
    "        f *= m\n",
    "        f %= MOD\n",
    "        factorials.append(f)\n",
    "    inv = pow(f, MOD - 2, MOD)\n",
    "    invs = [1] * (n + 1)\n",
    "    invs[n] = inv\n",
    "    for m in range(n, 1, -1):\n",
    "        inv *= m\n",
    "        inv %= MOD\n",
    "        invs[m - 1] = inv\n",
    "\n",
    "    return factorials, invs\n",
    "\n",
    "\n",
    "# n, k = map(int, input().split())\n",
    "# aaa = list(map(int, input().split()))\n",
    "a_list.sort()\n",
    "MOD = 10 ** 9 + 7\n",
    "facts, invs = prepare(n, MOD)\n",
    "\n",
    "max_sum = 0\n",
    "min_sum = 0\n",
    "for i, a in enumerate(a_list):\n",
    "    lo = i\n",
    "    hi = n - i - 1\n",
    "    if lo >= k - 1:\n",
    "        max_sum = (max_sum + facts[lo] * invs[k - 1] * invs[lo - k + 1] % MOD * a) % MOD\n",
    "    if hi >= k - 1:\n",
    "        min_sum = (min_sum + facts[hi] * invs[k - 1] * invs[hi - k + 1] % MOD * a) % MOD\n",
    "print((max_sum - min_sum) % MOD)\n"
   ]
  },
  {
   "cell_type": "code",
   "execution_count": 6,
   "metadata": {},
   "outputs": [
    {
     "name": "stdout",
     "output_type": "stream",
     "text": [
      "11\n"
     ]
    }
   ],
   "source": [
    "# n, k = map(int, input().split())\n",
    "# a = list(map(int, input().split()))\n",
    "a_list.sort()\n",
    "MOD = 10**9 + 7\n",
    "\n",
    "fact = [1]\n",
    "\n",
    "for i in range(1, 110000):\n",
    "    fact.append(fact[-1] * i % MOD)\n",
    "\n",
    "def rev(x):\n",
    "    return pow(x, MOD-2, MOD)\n",
    "    \n",
    "def c(i, k):\n",
    "    if(i < k):return 0\n",
    "    return fact[i] * rev(fact[k]) * rev(fact[i-k]) % MOD\n",
    "\n",
    "def calc():\n",
    "    result = 0\n",
    "    for i in range(n):\n",
    "        result += a_list[i] * c(i, k-1)\n",
    "        result %= MOD\n",
    "    return result\n",
    "\n",
    "ans = calc()\n",
    "a_list = a_list[::-1]\n",
    "\n",
    "ans -= calc()\n",
    "ans %= MOD\n",
    "if ans < 0:ans += MOD\n",
    "\n",
    "print(ans)\n"
   ]
  },
  {
   "cell_type": "code",
   "execution_count": null,
   "metadata": {},
   "outputs": [],
   "source": []
  }
 ],
 "metadata": {
  "kernelspec": {
   "display_name": "Python 3",
   "language": "python",
   "name": "python3"
  },
  "language_info": {
   "codemirror_mode": {
    "name": "ipython",
    "version": 3
   },
   "file_extension": ".py",
   "mimetype": "text/x-python",
   "name": "python",
   "nbconvert_exporter": "python",
   "pygments_lexer": "ipython3",
   "version": "3.7.4"
  }
 },
 "nbformat": 4,
 "nbformat_minor": 2
}
